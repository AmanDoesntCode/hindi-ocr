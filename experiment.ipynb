{
 "cells": [
  {
   "cell_type": "code",
   "execution_count": 1,
   "metadata": {},
   "outputs": [
    {
     "name": "stdout",
     "output_type": "stream",
     "text": [
      "WARNING:tensorflow:From C:\\Users\\M\\AppData\\Local\\Packages\\PythonSoftwareFoundation.Python.3.11_qbz5n2kfra8p0\\LocalCache\\local-packages\\Python311\\site-packages\\keras\\src\\losses.py:2976: The name tf.losses.sparse_softmax_cross_entropy is deprecated. Please use tf.compat.v1.losses.sparse_softmax_cross_entropy instead.\n",
      "\n"
     ]
    }
   ],
   "source": [
    "import os\n",
    "import h5py\n",
    "import numpy as np\n",
    "from keras.preprocessing.image import ImageDataGenerator\n",
    "from keras import optimizers\n",
    "from tensorflow.keras.models import Sequential\n",
    "from tensorflow.keras.layers import Convolution2D,MaxPooling2D,Activation, Dropout, Flatten, Dense, BatchNormalization"
   ]
  },
  {
   "cell_type": "code",
   "execution_count": 2,
   "metadata": {},
   "outputs": [
    {
     "name": "stdout",
     "output_type": "stream",
     "text": [
      "Found 78200 images belonging to 46 classes.\n",
      "Found 13800 images belonging to 46 classes.\n"
     ]
    }
   ],
   "source": [
    "trainDataGen = ImageDataGenerator(\n",
    "\t\trotation_range = 5,\n",
    "\t\twidth_shift_range = 0.1,\n",
    "\t\theight_shift_range = 0.1,\n",
    "\t\trescale = 1.0/255,\n",
    "\t\tshear_range = 0.2,\n",
    "\t\tzoom_range = 0.2,\t\t\n",
    "\t\thorizontal_flip = False,\n",
    "\t\tfill_mode = 'nearest')\n",
    "\n",
    "test_datagen = ImageDataGenerator(rescale=1./255)\n",
    "trainGenerator = trainDataGen.flow_from_directory(\n",
    "\t\t\t\"DevanagariHandwrittenCharacterDataset/Train\",\n",
    "\t\t\ttarget_size = (32,32),\n",
    "\t\t\tbatch_size = 32,\n",
    "\t\t\tcolor_mode = \"grayscale\",\n",
    "\t\t\tclass_mode = \"categorical\")\n",
    "validation_generator = test_datagen.flow_from_directory(\n",
    "\t\t\t\"DevanagariHandwrittenCharacterDataset/Test\",\n",
    "\t\t\ttarget_size=(32,32),\n",
    "\t\t\tbatch_size=32,\n",
    "\t\t\tcolor_mode = \"grayscale\",\n",
    "\t\t\tclass_mode= 'categorical')"
   ]
  },
  {
   "cell_type": "code",
   "execution_count": 3,
   "metadata": {},
   "outputs": [
    {
     "name": "stdout",
     "output_type": "stream",
     "text": [
      "WARNING:tensorflow:From C:\\Users\\M\\AppData\\Local\\Packages\\PythonSoftwareFoundation.Python.3.11_qbz5n2kfra8p0\\LocalCache\\local-packages\\Python311\\site-packages\\keras\\src\\backend.py:873: The name tf.get_default_graph is deprecated. Please use tf.compat.v1.get_default_graph instead.\n",
      "\n",
      "WARNING:tensorflow:From C:\\Users\\M\\AppData\\Local\\Packages\\PythonSoftwareFoundation.Python.3.11_qbz5n2kfra8p0\\LocalCache\\local-packages\\Python311\\site-packages\\keras\\src\\layers\\normalization\\batch_normalization.py:979: The name tf.nn.fused_batch_norm is deprecated. Please use tf.compat.v1.nn.fused_batch_norm instead.\n",
      "\n"
     ]
    }
   ],
   "source": [
    "model = Sequential()\n",
    "\n",
    "model.add(Convolution2D(filters = 32,\n",
    "\t\t\tkernel_size = (3,3),\n",
    "\t\t\tstrides = 1,\n",
    "\t\t\tactivation = \"relu\",\n",
    "\t\t\tinput_shape = (32,32,1)))\n",
    "model.add(BatchNormalization())\n",
    "model.add(MaxPooling2D(pool_size=(2, 2),\n",
    "\t\t\tstrides=(2, 2),\n",
    "\t\t\tpadding=\"same\"))\n",
    "model.add(Convolution2D(filters = 32,\n",
    "\t\t\tkernel_size = (3,3),\n",
    "\t\t\tstrides = 1,\n",
    "\t\t\tactivation = \"relu\",\n",
    "\t\t\tinput_shape = (32,32,1)))\n",
    "model.add(BatchNormalization())\n",
    "model.add(MaxPooling2D(pool_size=(2, 2),\n",
    "\t\t\tstrides=(2, 2),\n",
    "\t\t\tpadding=\"same\"))\n",
    "model.add(Convolution2D(filters = 64,\n",
    "\t\t\tkernel_size = (3,3),\n",
    "\t\t\tstrides = 1,\n",
    "\t\t\tactivation = \"relu\"))\n",
    "model.add(BatchNormalization())\n",
    "model.add(MaxPooling2D(pool_size=(2, 2),\n",
    "\t\t\tstrides=(2, 2),\n",
    "\t\t\tpadding=\"same\"))\n",
    "model.add(Convolution2D(filters = 64,\n",
    "\t\t\tkernel_size = (3,3),\n",
    "\t\t\tstrides= 1,\n",
    "\t\t\tactivation = \"relu\"))\n",
    "model.add(BatchNormalization())\n",
    "model.add(MaxPooling2D(pool_size=(2, 2),\n",
    "\t\t\tstrides=(2, 2),\n",
    "\t\t\tpadding=\"same\"))\t\t\t\n",
    "model.add(Flatten())"
   ]
  },
  {
   "cell_type": "code",
   "execution_count": 4,
   "metadata": {},
   "outputs": [
    {
     "name": "stdout",
     "output_type": "stream",
     "text": [
      "WARNING:tensorflow:From C:\\Users\\M\\AppData\\Local\\Packages\\PythonSoftwareFoundation.Python.3.11_qbz5n2kfra8p0\\LocalCache\\local-packages\\Python311\\site-packages\\keras\\src\\optimizers\\__init__.py:309: The name tf.train.Optimizer is deprecated. Please use tf.compat.v1.train.Optimizer instead.\n",
      "\n"
     ]
    },
    {
     "name": "stderr",
     "output_type": "stream",
     "text": [
      "C:\\Users\\M\\AppData\\Local\\Temp\\ipykernel_22888\\1035941781.py:15: UserWarning: `Model.fit_generator` is deprecated and will be removed in a future version. Please use `Model.fit`, which supports generators.\n",
      "  res=model.fit_generator(\n"
     ]
    },
    {
     "name": "stdout",
     "output_type": "stream",
     "text": [
      "Epoch 1/25\n",
      "WARNING:tensorflow:From C:\\Users\\M\\AppData\\Local\\Packages\\PythonSoftwareFoundation.Python.3.11_qbz5n2kfra8p0\\LocalCache\\local-packages\\Python311\\site-packages\\keras\\src\\utils\\tf_utils.py:492: The name tf.ragged.RaggedTensorValue is deprecated. Please use tf.compat.v1.ragged.RaggedTensorValue instead.\n",
      "\n",
      "WARNING:tensorflow:From C:\\Users\\M\\AppData\\Local\\Packages\\PythonSoftwareFoundation.Python.3.11_qbz5n2kfra8p0\\LocalCache\\local-packages\\Python311\\site-packages\\keras\\src\\engine\\base_layer_utils.py:384: The name tf.executing_eagerly_outside_functions is deprecated. Please use tf.compat.v1.executing_eagerly_outside_functions instead.\n",
      "\n",
      "2444/2444 [==============================] - 661s 268ms/step - loss: 0.8213 - accuracy: 0.7696 - val_loss: 0.2928 - val_accuracy: 0.9043\n",
      "Epoch 2/25\n",
      "2444/2444 [==============================] - 108s 44ms/step - loss: 0.2937 - accuracy: 0.9092 - val_loss: 0.1424 - val_accuracy: 0.9550\n",
      "Epoch 3/25\n",
      "2444/2444 [==============================] - 105s 43ms/step - loss: 0.2263 - accuracy: 0.9296 - val_loss: 0.2358 - val_accuracy: 0.9242\n",
      "Epoch 4/25\n",
      "2444/2444 [==============================] - 113s 46ms/step - loss: 0.1900 - accuracy: 0.9404 - val_loss: 0.0997 - val_accuracy: 0.9691\n",
      "Epoch 5/25\n",
      "2444/2444 [==============================] - 106s 44ms/step - loss: 0.1723 - accuracy: 0.9465 - val_loss: 0.1458 - val_accuracy: 0.9540\n",
      "Epoch 6/25\n",
      "2444/2444 [==============================] - 114s 46ms/step - loss: 0.1587 - accuracy: 0.9508 - val_loss: 0.0678 - val_accuracy: 0.9816\n",
      "Epoch 7/25\n",
      "2444/2444 [==============================] - 110s 45ms/step - loss: 0.1440 - accuracy: 0.9549 - val_loss: 0.0812 - val_accuracy: 0.9746\n",
      "Epoch 8/25\n",
      "2444/2444 [==============================] - 138s 56ms/step - loss: 0.1352 - accuracy: 0.9582 - val_loss: 0.0603 - val_accuracy: 0.9804\n",
      "Epoch 9/25\n",
      "2444/2444 [==============================] - 120s 49ms/step - loss: 0.1279 - accuracy: 0.9601 - val_loss: 0.0598 - val_accuracy: 0.9807\n",
      "Epoch 10/25\n",
      "2444/2444 [==============================] - 115s 47ms/step - loss: 0.1232 - accuracy: 0.9614 - val_loss: 0.0508 - val_accuracy: 0.9846\n",
      "Epoch 11/25\n",
      "2444/2444 [==============================] - 112s 46ms/step - loss: 0.1129 - accuracy: 0.9647 - val_loss: 0.0459 - val_accuracy: 0.9857\n",
      "Epoch 12/25\n",
      "2444/2444 [==============================] - 105s 43ms/step - loss: 0.1095 - accuracy: 0.9656 - val_loss: 0.0515 - val_accuracy: 0.9846\n",
      "Epoch 13/25\n",
      "2444/2444 [==============================] - 108s 44ms/step - loss: 0.1014 - accuracy: 0.9681 - val_loss: 0.0562 - val_accuracy: 0.9827\n",
      "Epoch 14/25\n",
      "2444/2444 [==============================] - 105s 43ms/step - loss: 0.1029 - accuracy: 0.9677 - val_loss: 0.0412 - val_accuracy: 0.9870\n",
      "Epoch 15/25\n",
      "2444/2444 [==============================] - 106s 43ms/step - loss: 0.0968 - accuracy: 0.9698 - val_loss: 0.0612 - val_accuracy: 0.9835\n",
      "Epoch 16/25\n",
      "2444/2444 [==============================] - 107s 44ms/step - loss: 0.0970 - accuracy: 0.9696 - val_loss: 0.0455 - val_accuracy: 0.9865\n",
      "Epoch 17/25\n",
      "2444/2444 [==============================] - 168s 69ms/step - loss: 0.0944 - accuracy: 0.9703 - val_loss: 0.0438 - val_accuracy: 0.9870\n",
      "Epoch 18/25\n",
      "2444/2444 [==============================] - 324s 133ms/step - loss: 0.0893 - accuracy: 0.9717 - val_loss: 0.0415 - val_accuracy: 0.9874\n",
      "Epoch 19/25\n",
      "2444/2444 [==============================] - 106s 43ms/step - loss: 0.0882 - accuracy: 0.9721 - val_loss: 0.0392 - val_accuracy: 0.9878\n",
      "Epoch 20/25\n",
      "2444/2444 [==============================] - 105s 43ms/step - loss: 0.0853 - accuracy: 0.9733 - val_loss: 0.0504 - val_accuracy: 0.9852\n",
      "Epoch 21/25\n",
      "2444/2444 [==============================] - 104s 42ms/step - loss: 0.0807 - accuracy: 0.9752 - val_loss: 0.0412 - val_accuracy: 0.9879\n",
      "Epoch 22/25\n",
      "2444/2444 [==============================] - 105s 43ms/step - loss: 0.0825 - accuracy: 0.9737 - val_loss: 0.0372 - val_accuracy: 0.9886\n",
      "Epoch 23/25\n",
      "2444/2444 [==============================] - 108s 44ms/step - loss: 0.0795 - accuracy: 0.9753 - val_loss: 0.0353 - val_accuracy: 0.9897\n",
      "Epoch 24/25\n",
      "2444/2444 [==============================] - 107s 44ms/step - loss: 0.0782 - accuracy: 0.9763 - val_loss: 0.0378 - val_accuracy: 0.9891\n",
      "Epoch 25/25\n",
      "2444/2444 [==============================] - 104s 43ms/step - loss: 0.0758 - accuracy: 0.9760 - val_loss: 0.0449 - val_accuracy: 0.9860\n"
     ]
    }
   ],
   "source": [
    "model.add(Dense(128,\n",
    "\t\tactivation = \"relu\",\n",
    "\t\tkernel_initializer = \"uniform\"))\n",
    "model.add(BatchNormalization())\t\t\t\n",
    "model.add(Dense(64,\n",
    "\t\tactivation = \"relu\",\n",
    "\t\tkernel_initializer = \"uniform\"))\n",
    "model.add(BatchNormalization())\t\t\t\n",
    "model.add(Dense(46,\n",
    "\t\tactivation = \"softmax\",\n",
    "\t\tkernel_initializer = \"uniform\"))\t\t\t\n",
    "model.compile(optimizer = \"adam\",\n",
    "\t\tloss = \"categorical_crossentropy\",\n",
    "\t\tmetrics = [\"accuracy\"])\n",
    "res=model.fit_generator(\n",
    "\t\ttrainGenerator,\n",
    "\t\tepochs = 25,\n",
    "\t\tsteps_per_epoch = 2444,\n",
    "\t\tvalidation_data = validation_generator,\n",
    "\t\tvalidation_steps = 432\n",
    "\t\t)\n"
   ]
  },
  {
   "cell_type": "code",
   "execution_count": 5,
   "metadata": {},
   "outputs": [
    {
     "name": "stdout",
     "output_type": "stream",
     "text": [
      "Model: \"sequential\"\n",
      "_________________________________________________________________\n",
      " Layer (type)                Output Shape              Param #   \n",
      "=================================================================\n",
      " conv2d (Conv2D)             (None, 30, 30, 32)        320       \n",
      "                                                                 \n",
      " batch_normalization (Batch  (None, 30, 30, 32)        128       \n",
      " Normalization)                                                  \n",
      "                                                                 \n",
      " max_pooling2d (MaxPooling2  (None, 15, 15, 32)        0         \n",
      " D)                                                              \n",
      "                                                                 \n",
      " conv2d_1 (Conv2D)           (None, 13, 13, 32)        9248      \n",
      "                                                                 \n",
      " batch_normalization_1 (Bat  (None, 13, 13, 32)        128       \n",
      " chNormalization)                                                \n",
      "                                                                 \n",
      " max_pooling2d_1 (MaxPoolin  (None, 7, 7, 32)          0         \n",
      " g2D)                                                            \n",
      "                                                                 \n",
      " conv2d_2 (Conv2D)           (None, 5, 5, 64)          18496     \n",
      "                                                                 \n",
      " batch_normalization_2 (Bat  (None, 5, 5, 64)          256       \n",
      " chNormalization)                                                \n",
      "                                                                 \n",
      " max_pooling2d_2 (MaxPoolin  (None, 3, 3, 64)          0         \n",
      " g2D)                                                            \n",
      "                                                                 \n",
      " conv2d_3 (Conv2D)           (None, 1, 1, 64)          36928     \n",
      "                                                                 \n",
      " batch_normalization_3 (Bat  (None, 1, 1, 64)          256       \n",
      " chNormalization)                                                \n",
      "                                                                 \n",
      " max_pooling2d_3 (MaxPoolin  (None, 1, 1, 64)          0         \n",
      " g2D)                                                            \n",
      "                                                                 \n",
      " flatten (Flatten)           (None, 64)                0         \n",
      "                                                                 \n",
      " dense (Dense)               (None, 128)               8320      \n",
      "                                                                 \n",
      " batch_normalization_4 (Bat  (None, 128)               512       \n",
      " chNormalization)                                                \n",
      "                                                                 \n",
      " dense_1 (Dense)             (None, 64)                8256      \n",
      "                                                                 \n",
      " batch_normalization_5 (Bat  (None, 64)                256       \n",
      " chNormalization)                                                \n",
      "                                                                 \n",
      " dense_2 (Dense)             (None, 46)                2990      \n",
      "                                                                 \n",
      "=================================================================\n",
      "Total params: 86094 (336.30 KB)\n",
      "Trainable params: 85326 (333.30 KB)\n",
      "Non-trainable params: 768 (3.00 KB)\n",
      "_________________________________________________________________\n",
      "None\n"
     ]
    }
   ],
   "source": [
    "print(model.summary())"
   ]
  },
  {
   "cell_type": "code",
   "execution_count": 6,
   "metadata": {},
   "outputs": [],
   "source": [
    "accu=res.history['accuracy']\n",
    "val_acc=res.history['val_accuracy']\n",
    "loss=res.history['loss']\n",
    "val_loss=res.history['val_loss']\n",
    "\n",
    "epochs=range(len(accu)) #No. of epochs"
   ]
  },
  {
   "cell_type": "code",
   "execution_count": 7,
   "metadata": {},
   "outputs": [
    {
     "data": {
      "image/png": "[encoded data removed]",
      "text/plain": [
       "<Figure size 640x480 with 1 Axes>"
      ]
     },
     "metadata": {},
     "output_type": "display_data"
    },
    {
     "data": {
      "image/png": "[encoded data removed]",
      "text/plain": [
       "<Figure size 640x480 with 1 Axes>"
      ]
     },
     "metadata": {},
     "output_type": "display_data"
    }
   ],
   "source": [
    "\n",
    "import matplotlib.pyplot as plt\n",
    "plt.plot(epochs,accu,'r',label='Training Accuracy')\n",
    "plt.plot(epochs,val_acc,'g',label='Testing Accuracy')\n",
    "plt.legend()\n",
    "plt.figure()\n",
    "\n",
    "#Plot training and validation loss per epoch\n",
    "plt.plot(epochs,loss,'r',label='Training Loss')\n",
    "plt.plot(epochs,val_loss,'g',label='Testing Loss')\n",
    "plt.legend()\n",
    "plt.show()"
   ]
  },
  {
   "cell_type": "code",
   "execution_count": 8,
   "metadata": {},
   "outputs": [
    {
     "name": "stderr",
     "output_type": "stream",
     "text": [
      "C:\\Users\\M\\AppData\\Local\\Packages\\PythonSoftwareFoundation.Python.3.11_qbz5n2kfra8p0\\LocalCache\\local-packages\\Python311\\site-packages\\keras\\src\\engine\\training.py:3103: UserWarning: You are saving your model as an HDF5 file via `model.save()`. This file format is considered legacy. We recommend using instead the native Keras format, e.g. `model.save('my_model.keras')`.\n",
      "  saving_api.save_model(\n"
     ]
    },
    {
     "ename": "",
     "evalue": "",
     "output_type": "error",
     "traceback": [
      "\u001b[1;31mThe Kernel crashed while executing code in the current cell or a previous cell. \n",
      "\u001b[1;31mPlease review the code in the cell(s) to identify a possible cause of the failure. \n",
      "\u001b[1;31mClick <a href='https://aka.ms/vscodeJupyterKernelCrash'>here</a> for more info. \n",
      "\u001b[1;31mView Jupyter <a href='command:jupyter.viewOutput'>log</a> for further details."
     ]
    }
   ],
   "source": [
    "model.save(\"HindiModel2.h5\")"
   ]
  },
  {
   "cell_type": "code",
   "execution_count": null,
   "metadata": {},
   "outputs": [],
   "source": []
  }
 ],
 "metadata": {
  "kernelspec": {
   "display_name": "Python 3",
   "language": "python",
   "name": "python3"
  },
  "language_info": {
   "codemirror_mode": {
    "name": "ipython",
    "version": 3
   },
   "file_extension": ".py",
   "mimetype": "text/x-python",
   "name": "python",
   "nbconvert_exporter": "python",
   "pygments_lexer": "ipython3",
   "version": "3.11.9"
  }
 },
 "nbformat": 4,
 "nbformat_minor": 2
}
